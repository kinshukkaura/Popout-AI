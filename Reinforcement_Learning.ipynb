{
 "cells": [
  {
   "cell_type": "code",
   "execution_count": 22,
   "metadata": {},
   "outputs": [],
   "source": [
    "import numpy as np\n",
    "import random"
   ]
  },
  {
   "attachments": {},
   "cell_type": "markdown",
   "metadata": {},
   "source": [
    "Importing code file that includes the Popout class"
   ]
  },
  {
   "cell_type": "code",
   "execution_count": 23,
   "metadata": {},
   "outputs": [],
   "source": [
    "from FinalConnect4 import *"
   ]
  },
  {
   "cell_type": "code",
   "execution_count": 24,
   "metadata": {},
   "outputs": [],
   "source": [
    "class ColumnFullException(Exception):\n",
    "    \"\"\"An exception that will be thrown if a column of the board is full\"\"\"\n",
    "\n",
    "    def __init__(self, value):\n",
    "        self.value = value\n",
    "\n",
    "    def __str__(self):\n",
    "        return repr(self.value)\n",
    "    \n",
    "class Learningagent:\n",
    "    def __init__(self, player = 1, alpha=0.5, epsilon=0.1, discount=0.95):\n",
    "        self.game = Game()\n",
    "        self.alpha = alpha\n",
    "        self.epsilon = epsilon\n",
    "        self.discount = discount\n",
    "        self.q_values = {}\n",
    "        self.player = 1\n",
    "\n",
    "    \n",
    "    def get_state(self):\n",
    "        \"\"\"\n",
    "        Return the 2d list numerical representation of the board\n",
    "        \"\"\"\n",
    "        result = tuple(tuple(x) for x in self.game.mat)\n",
    "        return result\n",
    "    \n",
    "    def get_prev_state(self):\n",
    "        \"\"\"\n",
    "        Return the previous state of the board\n",
    "        \"\"\"\n",
    "        self.prev_state = None\n",
    "        result = tuple(tuple(x) for x in self.prev_state)\n",
    "\n",
    "        return result\n",
    "    \n",
    "    def get_actions(self,state):\n",
    "        #gets all the possible actions that can be taken\n",
    "        actions = []\n",
    "        for i in range(self.game.cols):\n",
    "            for j in range(2):\n",
    "                if j == 0:\n",
    "                    pop = True\n",
    "                else:\n",
    "                    pop = False\n",
    "                if check_move(self.game,i,pop):\n",
    "                    actions.append((i+1,pop))\n",
    "        return actions\n",
    "\n",
    "\n",
    "    def get_q_value(self, state, action):\n",
    "        #Getting the q-value, setting initial to 1, so as to have optimisitic exploration\n",
    "        if state not in self.q_values:\n",
    "            self.q_values[state] = {}\n",
    "        if action not in self.q_values[state]:\n",
    "            self.q_values[state][action] = 1\n",
    "        return self.q_values[state][action]\n",
    "\n",
    "    def get_max_q_value(self, state):\n",
    "        #function to get max q value\n",
    "        max_q = -float(\"inf\")\n",
    "        for action in self.get_actions(state):\n",
    "            q = self.get_q_value(state, action)\n",
    "            if q > max_q:\n",
    "                max_q = q\n",
    "        return max_q    \n",
    "    \n",
    "    def get_rewards(self,game):\n",
    "        #Getting the rewards for the games, 1 for a win, -1 for a loss, 0.5 for a tie\n",
    "        reward = 0\n",
    "        win_value = check_victory(game)\n",
    "        if win_value == 3:\n",
    "            reward = 0.5\n",
    "        elif win_value == 1:\n",
    "            reward = 1\n",
    "        elif win_value == 2:\n",
    "            reward = -1\n",
    "        return reward\n",
    "    \n",
    "        \n",
    "    def choose_action(self, state):\n",
    "        \"\"\"\n",
    "        Return an action based on the best move recommendation by the current\n",
    "        Q-Table with a epsilon chance of trying out a new move\n",
    "        \"\"\"\n",
    "        current_state = state\n",
    "        actions = self.get_actions(state)\n",
    "        if random.random() < self.epsilon:  # explore!\n",
    "            chosen_action = random.choice(actions)\n",
    "            return chosen_action\n",
    "\n",
    "        qs = [self.get_q_value(current_state, a) for a in actions]\n",
    "        maxQ = max(qs)\n",
    "\n",
    "        if qs.count(maxQ) > 1:\n",
    "            # more than 1 best option; choose among them randomly\n",
    "            best_options = [i for i in range(len(actions)) if qs[i] == maxQ]\n",
    "            i = random.choice(best_options)\n",
    "        else:\n",
    "            i = qs.index(maxQ)\n",
    "        return actions[i]\n",
    "\n",
    "    #Using the Bellman Equation to    \n",
    "    def update(self,state, action, next_state,reward):\n",
    "        q = self.get_q_value(state, action)\n",
    "        max_q = self.get_max_q_value(next_state)\n",
    "        self.q_values[state][action] = q + self.alpha * (reward + self.discount*max_q - q)\n",
    "\n",
    "\n"
   ]
  },
  {
   "attachments": {},
   "cell_type": "markdown",
   "metadata": {},
   "source": [
    "#### In the SARSA Learning, contrary to QLearning which takes the the max of the q-value to update it using the Bellman Equation, SARSA just takes the next q-value of the next state and action. The actions are taken to be random."
   ]
  },
  {
   "cell_type": "code",
   "execution_count": 25,
   "metadata": {},
   "outputs": [],
   "source": [
    "sarsa_agent = Learningagent() #defining agent\n",
    "winsarsa = {'Player_1':0,'Player_2':0,'Ties':0}\n",
    "sarsamoves = []\n",
    "for i in range(5000):\n",
    "    sarsa_agent.game = Game()\n",
    "    sarsa_agent.game.cols = 7\n",
    "    sarsa_agent.game.rows = 6\n",
    "    board_game = np.zeros((sarsa_agent.game.rows, sarsa_agent.game.cols))\n",
    "    sarsa_agent.game.mat = board_game\n",
    "    sarsa_agent.game.wins = 4\n",
    "    moves = 0\n",
    "    while not sarsa_agent.game.game_over:\n",
    "\n",
    "        state1 = sarsa_agent.get_state()\n",
    "        actions1 = sarsa_agent.get_actions(state1)\n",
    "        action1 = random.choice(actions1)\n",
    "        if action1[1] == False:\n",
    "            apply_move(sarsa_agent.game, action1[0]-1, False)\n",
    "            moves += 1\n",
    "            sarsa_agent.game.turn = (sarsa_agent.game.turn + 1) % 2\n",
    "            #display_board(sarsa_agent.game)\n",
    "            #Use above to code see them play in live time\n",
    "            \n",
    "        else:\n",
    "            apply_move(sarsa_agent.game, action1[0]-1, True)\n",
    "            moves += 1\n",
    "            sarsa_agent.game.turn = (sarsa_agent.game.turn + 1) % 2\n",
    "            #display_board(sarsa_agent.game)\n",
    "            #Use above to code see them play in live time\n",
    "            \n",
    "        #Updating q-value using Bellman equation for SARSA         \n",
    "        state2 = sarsa_agent.get_state()\n",
    "        actions2 = sarsa_agent.get_actions(state2)\n",
    "        action2 = random.choice(actions2)\n",
    "        reward = sarsa_agent.get_rewards(sarsa_agent.game)\n",
    "        Qnext = sarsa_agent.get_q_value(state2, action2)\n",
    "        q = sarsa_agent.get_q_value(state1,action1)\n",
    "        sarsa_agent.q_values[state1][action1] = q + sarsa_agent.alpha * (reward + sarsa_agent.discount*Qnext - q)\n",
    "        \n",
    "        #Checking if the game is over \n",
    "        if check_victory(sarsa_agent.game) == 1 or check_victory(sarsa_agent.game) == 2 or check_victory(sarsa_agent.game) == 3:\n",
    "            \n",
    "            if check_victory(sarsa_agent.game) == 1:\n",
    "                winsarsa['Player_1'] += 1\n",
    "                #Player 1 won!    \n",
    "            elif check_victory(sarsa_agent.game) == 2:\n",
    "                winsarsa['Player_2'] += 1\n",
    "                #Player 2 won!\n",
    "            elif check_victory(sarsa_agent.game) == 3:\n",
    "                winsarsa['Ties'] += 1\n",
    "                #It's a tie.\n",
    "            sarsamoves.append((moves))\n",
    "            sarsa_agent.game.game_over = True\n"
   ]
  },
  {
   "cell_type": "code",
   "execution_count": 26,
   "metadata": {},
   "outputs": [
    {
     "data": {
      "text/plain": [
       "0.5196"
      ]
     },
     "execution_count": 26,
     "metadata": {},
     "output_type": "execute_result"
    }
   ],
   "source": [
    "winsarsa['Player_1']/(winsarsa['Player_2'] + winsarsa['Player_1'])"
   ]
  },
  {
   "cell_type": "code",
   "execution_count": 27,
   "metadata": {},
   "outputs": [
    {
     "data": {
      "text/plain": [
       "28.2688"
      ]
     },
     "execution_count": 27,
     "metadata": {},
     "output_type": "execute_result"
    }
   ],
   "source": [
    "np.mean(sarsamoves)"
   ]
  },
  {
   "attachments": {},
   "cell_type": "markdown",
   "metadata": {},
   "source": [
    "#### QLearning agent "
   ]
  },
  {
   "cell_type": "code",
   "execution_count": 28,
   "metadata": {},
   "outputs": [],
   "source": [
    "#Code takes long to run\n",
    "qlagent = Learningagent()\n",
    "qlmoves = []\n",
    "qlwins = {\"Player_1\":0,'Player_2':0,'Ties':0}\n",
    "for i in range(5000):\n",
    "    #taking 5000 iterations\n",
    "    qlagent.game = Game()\n",
    "    qlagent.game.cols = 7\n",
    "    qlagent.game.rows = 6\n",
    "    board_game = np.zeros((qlagent.game.rows, qlagent.game.cols))\n",
    "    qlagent.game.mat = board_game\n",
    "    qlagent.game.wins = 4\n",
    "    moves = 0\n",
    "    #starting game\n",
    "    while not qlagent.game.game_over:\n",
    "        state1 = qlagent.get_state()\n",
    "        actions1 = qlagent.get_actions(state1)\n",
    "        action1 = qlagent.choose_action(state1)\n",
    "        if action1[1] == False:\n",
    "            apply_move(qlagent.game, action1[0]-1, False)\n",
    "            moves +=1\n",
    "            qlagent.game.turn = (qlagent.game.turn + 1) % 2\n",
    "            #display_board(qlagent.game)\n",
    "            #Use above to code see them play in live time\n",
    "        else:\n",
    "            apply_move(qlagent.game, action1[0]-1, True)\n",
    "            moves += 1\n",
    "            qlagent.game.turn = (qlagent.game.turn + 1) % 2\n",
    "            #display_board(qlagent.game)\n",
    "            #Use above to code see them play in live time\n",
    "        \n",
    "        #updating the Q-value using Bellman equation\n",
    "        next_state = qlagent.get_state()\n",
    "        reward = qlagent.get_rewards(qlagent.game)\n",
    "        qlagent.update( state1, action1, next_state,reward)\n",
    "        \n",
    "        if check_victory(qlagent.game) == 1 or check_victory(qlagent.game) == 2 or check_victory(qlagent.game) == 3:\n",
    "            if check_victory(qlagent.game) == 1 :\n",
    "                qlwins['Player_1']+=1    \n",
    "            elif check_victory(qlagent.game) == 2 :\n",
    "                qlwins['Player_2']+=1\n",
    "            elif check_victory(qlagent.game) == 3 :\n",
    "                qlwins['Ties']+=1\n",
    "            qlmoves.append((moves))\n",
    "            qlagent.game.game_over = True"
   ]
  },
  {
   "cell_type": "code",
   "execution_count": 29,
   "metadata": {},
   "outputs": [
    {
     "data": {
      "text/plain": [
       "{'Player_1': 3959, 'Player_2': 1041, 'Ties': 0}"
      ]
     },
     "execution_count": 29,
     "metadata": {},
     "output_type": "execute_result"
    }
   ],
   "source": [
    "qlwins"
   ]
  },
  {
   "cell_type": "code",
   "execution_count": 30,
   "metadata": {},
   "outputs": [
    {
     "data": {
      "text/plain": [
       "0.7918"
      ]
     },
     "execution_count": 30,
     "metadata": {},
     "output_type": "execute_result"
    }
   ],
   "source": [
    "qlwins['Player_1']/(qlwins['Player_2'] + qlwins['Player_1'])\n"
   ]
  },
  {
   "attachments": {},
   "cell_type": "markdown",
   "metadata": {},
   "source": [
    "Qlearning has a much higher first player win percentage than SARSA."
   ]
  },
  {
   "cell_type": "code",
   "execution_count": 31,
   "metadata": {},
   "outputs": [
    {
     "data": {
      "text/plain": [
       "17.1242"
      ]
     },
     "execution_count": 31,
     "metadata": {},
     "output_type": "execute_result"
    }
   ],
   "source": [
    "np.mean(qlmoves)"
   ]
  },
  {
   "cell_type": "code",
   "execution_count": 32,
   "metadata": {},
   "outputs": [
    {
     "data": {
      "image/png": "[encoded data removed]",
      "text/plain": [
       "<Figure size 432x288 with 1 Axes>"
      ]
     },
     "metadata": {
      "needs_background": "light"
     },
     "output_type": "display_data"
    }
   ],
   "source": [
    "import seaborn as sns\n",
    "import matplotlib.pyplot as plt\n",
    "sns.kdeplot(qlmoves)\n",
    "sns.kdeplot(sarsamoves)\n",
    "plt.xlabel(\"Number of moves\")\n",
    "plt.title(\"Density plot for Number of moves\")\n",
    "plt.savefig('Movesvs.png')"
   ]
  },
  {
   "attachments": {},
   "cell_type": "markdown",
   "metadata": {},
   "source": [
    "### QLearning vs SARSA"
   ]
  },
  {
   "attachments": {},
   "cell_type": "markdown",
   "metadata": {},
   "source": [
    "When Qlearning agent is the first player-"
   ]
  },
  {
   "cell_type": "code",
   "execution_count": 33,
   "metadata": {},
   "outputs": [],
   "source": [
    "listmoves = []\n",
    "wins = {\"Player_1\": 0, 'Player_2': 0, 'Ties': 0}\n",
    "for i in range(5000):\n",
    "    game = Game()\n",
    "    game.cols = 7\n",
    "    game.rows = 6\n",
    "    board_game = np.zeros((game.rows, game.cols))\n",
    "    game.mat = board_game\n",
    "    game.wins = 4\n",
    "    moves = 0\n",
    "    sarsa_agent.game = game\n",
    "    qlagent.game = game\n",
    "    while not qlagent.game.game_over:\n",
    "        if qlagent.game.turn == 0:\n",
    "            state1 = qlagent.get_state()\n",
    "            actions1 = qlagent.get_actions(state1)\n",
    "            action1 = qlagent.choose_action(state1)\n",
    "            \n",
    "            if action1[1] == False:\n",
    "                apply_move(qlagent.game, action1[0]-1, False)\n",
    "                moves += 1\n",
    "                qlagent.game.turn = (qlagent.game.turn + 1) % 2\n",
    "            else:\n",
    "                apply_move(qlagent.game, action1[0]-1, True)\n",
    "                moves += 1\n",
    "                qlagent.game.turn = (qlagent.game.turn + 1) % 2       \n",
    "            next_state = qlagent.get_state()\n",
    "            reward = qlagent.get_rewards(qlagent.game)\n",
    "            qlagent.update(state1, action1, next_state, reward)\n",
    "        else:\n",
    "            sarsa_agent.game.mat = qlagent.game.mat\n",
    "            state1 = sarsa_agent.get_state()\n",
    "            actions1 = sarsa_agent.get_actions(state1)\n",
    "            action1 = random.choice(actions1)\n",
    "            if action1[1] == False:\n",
    "                apply_move(sarsa_agent.game, action1[0]-1, False)\n",
    "                moves += 1\n",
    "                sarsa_agent.game.turn = (sarsa_agent.game.turn + 1) % 2\n",
    "            else:\n",
    "                apply_move(sarsa_agent.game, action1[0]-1, True)\n",
    "                moves += 1\n",
    "                sarsa_agent.game.turn = (sarsa_agent.game.turn + 1) % 2\n",
    "\n",
    "            state2 = sarsa_agent.get_state()\n",
    "            actions2 = sarsa_agent.get_actions(state2)\n",
    "            action2 = random.choice(actions2)\n",
    "            reward = sarsa_agent.get_rewards(sarsa_agent.game)\n",
    "            Qnext = sarsa_agent.get_q_value(state2, action2)\n",
    "            q = sarsa_agent.get_q_value(state1, action1)\n",
    "            sarsa_agent.q_values[state1][action1] = q + sarsa_agent.alpha * (reward + sarsa_agent.discount*Qnext - q)\n",
    "            qlagent.game.mat = sarsa_agent.game.mat\n",
    "        \n",
    "        if check_victory(qlagent.game) == 1 or check_victory(qlagent.game) == 2 or check_victory(qlagent.game) == 3:\n",
    "            if check_victory(qlagent.game) == 1:\n",
    "                wins['Player_1'] += 1\n",
    "            elif check_victory(qlagent.game) == 2:\n",
    "                wins['Player_2'] += 1\n",
    "            elif check_victory(qlagent.game) == 3:\n",
    "                wins['Ties'] += 1\n",
    "            listmoves.append((moves))\n",
    "            qlagent.game.game_over = True\n"
   ]
  },
  {
   "cell_type": "code",
   "execution_count": 34,
   "metadata": {},
   "outputs": [
    {
     "data": {
      "text/plain": [
       "0.5912"
      ]
     },
     "execution_count": 34,
     "metadata": {},
     "output_type": "execute_result"
    }
   ],
   "source": [
    "wins['Player_1']/(wins['Player_2'] +wins['Player_1'])  #Win percentage of Qlearning vs SARSA when Qlearning goes first"
   ]
  },
  {
   "attachments": {},
   "cell_type": "markdown",
   "metadata": {},
   "source": [
    "When SARSA agent is the first player-"
   ]
  },
  {
   "cell_type": "code",
   "execution_count": 35,
   "metadata": {},
   "outputs": [],
   "source": [
    "listmoves2 = []\n",
    "wins2 = {\"Player_1\": 0, 'Player_2': 0, 'Ties': 0}\n",
    "for i in range(5000):\n",
    "    game = Game()\n",
    "    game.cols = 7\n",
    "    game.rows = 6\n",
    "    board_game = np.zeros((game.rows, game.cols))\n",
    "    game.mat = board_game\n",
    "    game.wins = 4\n",
    "    moves = 0\n",
    "    sarsa_agent.game = game\n",
    "    qlagent.game = game\n",
    "    while not qlagent.game.game_over:\n",
    "        if qlagent.game.turn == 1:\n",
    "            state1 = qlagent.get_state()\n",
    "            actions1 = qlagent.get_actions(state1)\n",
    "            action1 = qlagent.choose_action(state1)\n",
    "\n",
    "            if action1[1] == False:\n",
    "                apply_move(qlagent.game, action1[0]-1, False)\n",
    "                moves += 1\n",
    "                qlagent.game.turn = (qlagent.game.turn + 1) % 2\n",
    "            else:\n",
    "                apply_move(qlagent.game, action1[0]-1, True)\n",
    "                moves += 1\n",
    "                qlagent.game.turn = (qlagent.game.turn + 1) % 2\n",
    "            next_state = qlagent.get_state()\n",
    "            reward = qlagent.get_rewards(qlagent.game)\n",
    "            qlagent.update(state1, action1, next_state, reward)\n",
    "        else:\n",
    "            sarsa_agent.game.mat = qlagent.game.mat\n",
    "            state1 = sarsa_agent.get_state()\n",
    "            actions1 = sarsa_agent.get_actions(state1)\n",
    "            action1 = random.choice(actions1)\n",
    "            if action1[1] == False:\n",
    "                apply_move(sarsa_agent.game, action1[0]-1, False)\n",
    "                moves += 1\n",
    "                sarsa_agent.game.turn = (sarsa_agent.game.turn + 1) % 2\n",
    "            else:\n",
    "                apply_move(sarsa_agent.game, action1[0]-1, True)\n",
    "                moves += 1\n",
    "                sarsa_agent.game.turn = (sarsa_agent.game.turn + 1) % 2\n",
    "\n",
    "            state2 = sarsa_agent.get_state()\n",
    "            actions2 = sarsa_agent.get_actions(state2)\n",
    "            action2 = random.choice(actions2)\n",
    "            reward = sarsa_agent.get_rewards(sarsa_agent.game)\n",
    "            Qnext = sarsa_agent.get_q_value(state2, action2)\n",
    "            q = sarsa_agent.get_q_value(state1, action1)\n",
    "            sarsa_agent.q_values[state1][action1] = q + \\\n",
    "                sarsa_agent.alpha * (reward + sarsa_agent.discount*Qnext - q)\n",
    "            qlagent.game.mat = sarsa_agent.game.mat\n",
    "\n",
    "        if check_victory(qlagent.game) == 1 or check_victory(qlagent.game) == 2 or check_victory(qlagent.game) == 3:\n",
    "            if check_victory(qlagent.game) == 1:\n",
    "                wins2['Player_1'] += 1\n",
    "            elif check_victory(qlagent.game) == 2:\n",
    "                wins2['Player_2'] += 1\n",
    "            elif check_victory(qlagent.game) == 3:\n",
    "                wins2['Ties'] += 1\n",
    "            listmoves2.append((moves))\n",
    "            qlagent.game.game_over = True\n"
   ]
  },
  {
   "cell_type": "code",
   "execution_count": 36,
   "metadata": {},
   "outputs": [
    {
     "data": {
      "text/plain": [
       "0.5802874743326488"
      ]
     },
     "execution_count": 36,
     "metadata": {},
     "output_type": "execute_result"
    }
   ],
   "source": [
    "wins2['Player_1']/(wins['Player_2']+wins2['Player_1']) #win percentage of SARSA vs Qlearning when SARSA goes first"
   ]
  },
  {
   "attachments": {},
   "cell_type": "markdown",
   "metadata": {},
   "source": [
    "Win percentages of both the agents are comparable, and a bit random. But overall, first turn does matter more, even though popout is much less affected by the first turn compared to the traditional Connect4."
   ]
  }
 ],
 "metadata": {
  "kernelspec": {
   "display_name": "Python 3",
   "language": "python",
   "name": "python3"
  },
  "language_info": {
   "codemirror_mode": {
    "name": "ipython",
    "version": 3
   },
   "file_extension": ".py",
   "mimetype": "text/x-python",
   "name": "python",
   "nbconvert_exporter": "python",
   "pygments_lexer": "ipython3",
   "version": "3.9.0"
  },
  "orig_nbformat": 4,
  "vscode": {
   "interpreter": {
    "hash": "7e7a4cb9f81bafcbc7147b4be24710fa1d9b1d8b9fe3943ee9265661d0431161"
   }
  }
 },
 "nbformat": 4,
 "nbformat_minor": 2
}
